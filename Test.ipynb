{
  "nbformat": 4,
  "nbformat_minor": 0,
  "metadata": {
    "colab": {
      "provenance": []
    },
    "kernelspec": {
      "name": "python3",
      "display_name": "Python 3"
    },
    "language_info": {
      "name": "python"
    }
  },
  "cells": [
    {
      "cell_type": "code",
      "execution_count": 4,
      "metadata": {
        "colab": {
          "base_uri": "https://localhost:8080/"
        },
        "id": "DCjpWTeMG2-V",
        "outputId": "2f9d5aac-9c99-4567-955b-86df0292715b"
      },
      "outputs": [
        {
          "output_type": "stream",
          "name": "stdout",
          "text": [
            "isEven: True\n",
            "isEvenBitwise: True\n",
            "\n",
            "isEven: False\n",
            "isEvenBitwise: False\n",
            "\n"
          ]
        }
      ],
      "source": [
        "def isEvenBitwise(value):\n",
        "  return (value & 1) == 0\n",
        "\n",
        "def isEven(value):\n",
        "  return value % 2 == 0\n",
        "\n",
        "def test_evenness(value):\n",
        "  print(f\"isEven: {isEven(value)}\")\n",
        "  print(f\"isEvenBitwise: {isEvenBitwise(value)}\\n\")\n",
        "\n",
        "test_evenness(10)\n",
        "test_evenness(11)"
      ]
    },
    {
      "cell_type": "markdown",
      "source": [
        "# Использование модуля (%):\n",
        "\n",
        "## Плюсы:\n",
        "\n",
        "- Понятно всем: Этот способ проверки четности - самый распространенный и большинство людей, даже не очень знакомых с программированием, быстро поймут, что происходит.\n",
        "- Работает со всеми числами: Не важно, положительное это число или отрицательное - этот метод всегда сработает.\n",
        "\n",
        "## Минусы:\n",
        "\n",
        "- Может быть медленнее: Нахождение остатка от деления может занять больше времени, особенно если числа очень большие.\n",
        "\n",
        "# Использование побитового 'И' (AND):\n",
        "\n",
        "## Плюсы:\n",
        "\n",
        "- Быстрее: Этот способ часто работает быстрее, особенно если речь идет о больших числах.\n",
        "\n",
        "## Минусы:\n",
        "\n",
        "- Не для всех понятно: Если вы не знакомы с побитовыми операциями, этот код может показаться загадочным.\n",
        "- Только для целых чисел: Этот метод подходит только для целых чисел."
      ],
      "metadata": {
        "id": "czSSi_ZQI8Nd"
      }
    },
    {
      "cell_type": "code",
      "source": [
        "from collections import deque\n",
        "import time\n",
        "\n",
        "class CircularBufferList:\n",
        "    def __init__(self, capacity):\n",
        "        self.buffer = [None] * capacity\n",
        "        self.capacity = capacity\n",
        "        self.start = 0\n",
        "        self.end = 0\n",
        "        self.size = 0\n",
        "\n",
        "    def enqueue(self, item):\n",
        "        if self.size == self.capacity:\n",
        "            raise Exception(\"Буфер заполнен\")\n",
        "        self.buffer[self.end] = item\n",
        "        self.end = (self.end + 1) % self.capacity\n",
        "        self.size += 1\n",
        "\n",
        "    def dequeue(self):\n",
        "        if self.size == 0:\n",
        "            raise Exception(\"Буфер пуст\")\n",
        "        item = self.buffer[self.start]\n",
        "        self.start = (self.start + 1) % self.capacity\n",
        "        self.size -= 1\n",
        "        return item\n",
        "\n",
        "    def __str__(self):\n",
        "        return str(self.buffer[self.start:self.end + 1])\n",
        "\n",
        "class CircularBufferDeque:\n",
        "    def __init__(self, capacity):\n",
        "        self.buffer = deque(maxlen=capacity)\n",
        "\n",
        "    def enqueue(self, item):\n",
        "        if len(self.buffer) == self.buffer.maxlen:\n",
        "            self.dequeue()\n",
        "        self.buffer.append(item)\n",
        "\n",
        "    def dequeue(self):\n",
        "        if not self.buffer:\n",
        "            raise Exception(\"Буфер пуст\")\n",
        "        return self.buffer.popleft()\n",
        "\n",
        "    def __str__(self):\n",
        "        return str(list(self.buffer))\n",
        "\n",
        "def test_circular_buffer(buffer_class, capacity):\n",
        "    print(f\"Тестируем {buffer_class.__name__} с вместимостью {capacity}\")\n",
        "    buffer = buffer_class(capacity)\n",
        "\n",
        "    start_time = time.time()\n",
        "    for i in range(capacity):\n",
        "        buffer.enqueue(i)\n",
        "    enqueue_time = time.time() - start_time\n",
        "    print(f\"Время на добавление элементов: {enqueue_time:.6f} секунд\")\n",
        "\n",
        "    start_time = time.time()\n",
        "    removed_item = buffer.dequeue()\n",
        "    dequeue_time = time.time() - start_time\n",
        "    print(f\"Время на удаление элемента: {dequeue_time:.6f} секунд\")\n",
        "\n",
        "    print(\"Удаленный элемент:\", removed_item)\n",
        "    print(\"Содержимое буфера после удаления элемента:\", buffer)\n",
        "    print(\"\")\n",
        "\n",
        "test_circular_buffer(CircularBufferList, 5)\n",
        "test_circular_buffer(CircularBufferDeque, 5)"
      ],
      "metadata": {
        "colab": {
          "base_uri": "https://localhost:8080/"
        },
        "id": "-3aS418ZKh1c",
        "outputId": "9ae592d0-8c62-46fb-8692-815afec1e76b"
      },
      "execution_count": 7,
      "outputs": [
        {
          "output_type": "stream",
          "name": "stdout",
          "text": [
            "Тестируем CircularBufferList с вместимостью 5\n",
            "Время на добавление элементов: 0.000010 секунд\n",
            "Время на удаление элемента: 0.000006 секунд\n",
            "Удаленный элемент: 0\n",
            "Содержимое буфера после удаления элемента: []\n",
            "\n",
            "Тестируем CircularBufferDeque с вместимостью 5\n",
            "Время на добавление элементов: 0.000008 секунд\n",
            "Время на удаление элемента: 0.000005 секунд\n",
            "Удаленный элемент: 0\n",
            "Содержимое буфера после удаления элемента: [1, 2, 3, 4]\n",
            "\n"
          ]
        }
      ]
    },
    {
      "cell_type": "markdown",
      "source": [
        "- Обе реализации достаточно эффективны для небольшого количества элементов, что демонстрируют результаты тестирования.\n",
        "\n",
        "- CircularBufferDeque демонстрирует незначительное преимущество в скорости по сравнению с CircularBufferList. Это может быть более заметно при работе с большим количеством элементов или в более требовательных по производительности сценариях.\n",
        "\n",
        "- Реализация на основе deque предпочтительнее для ситуаций, где требуется высокая производительность операций вставки и удаления."
      ],
      "metadata": {
        "id": "cRD138AbMvCi"
      }
    },
    {
      "cell_type": "code",
      "source": [
        "import time\n",
        "import random\n",
        "from collections import deque\n",
        "\n",
        "def calc_min_run(n):\n",
        "    r = 0\n",
        "    while n >= 64:\n",
        "        r |= n & 1\n",
        "        n >>= 1\n",
        "    return n + r\n",
        "\n",
        "def insertion_sort(arr, left, right):\n",
        "    for i in range(left + 1, right + 1):\n",
        "        temp = arr[i]\n",
        "        j = i - 1\n",
        "        while j >= left and arr[j] > temp:\n",
        "            arr[j + 1] = arr[j]\n",
        "            j -= 1\n",
        "        arr[j + 1] = temp\n",
        "\n",
        "def merge(arr, l, m, r):\n",
        "    len1, len2 = m - l + 1, r - m\n",
        "    left, right = [], []\n",
        "    for i in range(0, len1):\n",
        "        left.append(arr[l + i])\n",
        "    for i in range(0, len2):\n",
        "        right.append(arr[m + 1 + i])\n",
        "\n",
        "    i, j, k = 0, 0, l\n",
        "\n",
        "    while i < len1 and j < len2:\n",
        "        if left[i] <= right[j]:\n",
        "            arr[k] = left[i]\n",
        "            i += 1\n",
        "        else:\n",
        "            arr[k] = right[j]\n",
        "            j += 1\n",
        "        k += 1\n",
        "\n",
        "    while i < len1:\n",
        "        arr[k] = left[i]\n",
        "        i += 1\n",
        "        k += 1\n",
        "\n",
        "    while j < len2:\n",
        "        arr[k] = right[j]\n",
        "        j += 1\n",
        "        k += 1\n",
        "\n",
        "def tim_sort(arr):\n",
        "    n = len(arr)\n",
        "    min_run = calc_min_run(n)\n",
        "\n",
        "    # Сортировка вставками для каждого подмассива размером min_run\n",
        "    for start in range(0, n, min_run):\n",
        "        end = min(start + min_run - 1, n - 1)\n",
        "        insertion_sort(arr, start, end)\n",
        "\n",
        "    # Слияние отсортированных подмассивов\n",
        "    size = min_run\n",
        "    while size < n:\n",
        "        for left in range(0, n, 2 * size):\n",
        "            mid = min(n - 1, left + size - 1)\n",
        "            right = min((left + 2 * size - 1), (n - 1))\n",
        "\n",
        "            if mid < right:\n",
        "                merge(arr, left, mid, right)\n",
        "\n",
        "        size *= 2\n",
        "\n",
        "# Стандартная сортировка Python\n",
        "def sort_array(arr):\n",
        "    return sorted(arr)\n",
        "\n",
        "# Функция для измерения времени выполнения сортировки\n",
        "def measure_time(func, arr):\n",
        "    start_time = time.time()\n",
        "    func(arr)\n",
        "    return time.time() - start_time\n",
        "\n",
        "# Генерация случайного массива\n",
        "array = [random.randint(0, 1000) for _ in range(1000)]\n",
        "\n",
        "# Копия массива для справедливого сравнения\n",
        "array_copy = array.copy()\n",
        "\n",
        "# Измерение времени для встроенной сортировки\n",
        "time_sorted = measure_time(sort_array, array)\n",
        "print(f\"Время, затраченное на стандартную сортировку: {time_sorted:.6f} секунд\")\n",
        "\n",
        "# Измерение времени для Timsort\n",
        "time_timsort = measure_time(tim_sort, array_copy)\n",
        "print(f\"Время, затраченное на Timsort: {time_timsort:.6f} секунд\")"
      ],
      "metadata": {
        "colab": {
          "base_uri": "https://localhost:8080/"
        },
        "id": "q2CGYNd8KlWy",
        "outputId": "b99dd095-52ec-4336-d689-90aad32a7c8c"
      },
      "execution_count": 8,
      "outputs": [
        {
          "output_type": "stream",
          "name": "stdout",
          "text": [
            "Время, затраченное на стандартную сортировку: 0.000137 секунд\n",
            "Время, затраченное на Timsort: 0.004654 секунд\n"
          ]
        }
      ]
    }
  ]
}